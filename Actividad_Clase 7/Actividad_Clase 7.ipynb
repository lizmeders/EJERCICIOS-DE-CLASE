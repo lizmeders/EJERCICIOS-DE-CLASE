{
 "cells": [
  {
   "cell_type": "markdown",
   "metadata": {
    "id": "bnwe6cRUzxWN"
   },
   "source": [
    "#Taller Pandas - Numpy\n",
    "\n",
    "### **Instrucciones:**\n",
    "\n",
    "1. Formula 1 pregunta de análisis sobre tu conjunto de datos\n",
    "2. Utilizando Pandas y Numpy:\n",
    "  - Limpieza de datos (Pandas: dropna, fillna, replace, etc.)\n",
    "  - Filtrado y selección de datos\n",
    "  - Transformación de columnas, creación de variables nuevas\n",
    "  - Agrupaciones y resúmenes (groupby)\n",
    "  - Conversión a array NumPy para operaciones matemáticas rápidas (media, desvío, normalización, operaciones vectorizadas)\n",
    "3. Responde la pregunta planteada con una breve interpretación.\n",
    "\n",
    "### **Ejemplos de preguntas para el reto:**\n",
    "- ¿Cuál es el promedio de ventas por mes?\n",
    "- ¿Cómo cambian la cantidad de productos exportados a lo largo del tiempo?\n",
    "- ¿Hay valores atípicos en alguna columna numérica? ¿Cómo los tratarías?\n",
    "- ¿Cuál es la categoría más frecuente y qué la distingue en el dataset?\n",
    "- ¿Qué porcentaje de transacciones tiene una cantidad vendida superior al promedio?\n",
    "- ¿Qué días tuvieron ventas totales fuera de lo común (muy altas o muy bajas)?"
   ]
  },
  {
   "cell_type": "markdown",
   "metadata": {
    "id": "MQiZkeO93eQ9"
   },
   "source": [
    "---\n",
    "## Ejemplo\n",
    "https://www.kaggle.com/datasets/akshaygaikwad448/pizza-delivery-data-with-enhanced-features"
   ]
  },
  {
   "cell_type": "code",
   "execution_count": 3,
   "metadata": {
    "executionInfo": {
     "elapsed": 29,
     "status": "ok",
     "timestamp": 1748991706780,
     "user": {
      "displayName": "Cristian Sainea",
      "userId": "04782665827188215718"
     },
     "user_tz": 300
    },
    "id": "_ZT74k4o3gH8"
   },
   "outputs": [],
   "source": [
    "import pandas as pd\n",
    "import numpy as np"
   ]
  },
  {
   "cell_type": "code",
   "execution_count": 4,
   "metadata": {
    "colab": {
     "base_uri": "https://localhost:8080/"
    },
    "executionInfo": {
     "elapsed": 17926,
     "status": "ok",
     "timestamp": 1748991724710,
     "user": {
      "displayName": "Cristian Sainea",
      "userId": "04782665827188215718"
     },
     "user_tz": 300
    },
    "id": "qgzmjWbK3rVj",
    "outputId": "30ce539a-0ef3-49c9-a0ad-988b64653d8f"
   },
   "outputs": [
    {
     "name": "stdout",
     "output_type": "stream",
     "text": [
      "Mounted at /content/drive\n"
     ]
    }
   ],
   "source": [
    "from google.colab import drive\n",
    "drive.mount('/content/drive')"
   ]
  },
  {
   "cell_type": "code",
   "execution_count": 7,
   "metadata": {
    "colab": {
     "base_uri": "https://localhost:8080/",
     "height": 463
    },
    "executionInfo": {
     "elapsed": 2090,
     "status": "ok",
     "timestamp": 1748991737047,
     "user": {
      "displayName": "Cristian Sainea",
      "userId": "04782665827188215718"
     },
     "user_tz": 300
    },
    "id": "lNSfLweG3nZg",
    "outputId": "6d93b799-1fc6-445f-d779-87801f8b3167"
   },
   "outputs": [
    {
     "data": {
      "application/vnd.google.colaboratory.intrinsic+json": {
       "type": "dataframe",
       "variable_name": "pizza_data"
      },
      "text/html": [
       "\n",
       "  <div id=\"df-6294248f-e8d9-4d14-bc55-6532ed7967b5\" class=\"colab-df-container\">\n",
       "    <div>\n",
       "<style scoped>\n",
       "    .dataframe tbody tr th:only-of-type {\n",
       "        vertical-align: middle;\n",
       "    }\n",
       "\n",
       "    .dataframe tbody tr th {\n",
       "        vertical-align: top;\n",
       "    }\n",
       "\n",
       "    .dataframe thead th {\n",
       "        text-align: right;\n",
       "    }\n",
       "</style>\n",
       "<table border=\"1\" class=\"dataframe\">\n",
       "  <thead>\n",
       "    <tr style=\"text-align: right;\">\n",
       "      <th></th>\n",
       "      <th>Order ID</th>\n",
       "      <th>Restaurant Name</th>\n",
       "      <th>Location</th>\n",
       "      <th>Order Time</th>\n",
       "      <th>Delivery Time</th>\n",
       "      <th>Delivery Duration (min)</th>\n",
       "      <th>Pizza Size</th>\n",
       "      <th>Pizza Type</th>\n",
       "      <th>Toppings Count</th>\n",
       "      <th>Distance (km)</th>\n",
       "      <th>...</th>\n",
       "      <th>Topping Density</th>\n",
       "      <th>Order Month</th>\n",
       "      <th>Payment Category</th>\n",
       "      <th>Estimated Duration (min)</th>\n",
       "      <th>Delay (min)</th>\n",
       "      <th>Is Delayed</th>\n",
       "      <th>Pizza Complexity</th>\n",
       "      <th>Traffic Impact</th>\n",
       "      <th>Order Hour</th>\n",
       "      <th>Restaurant Avg Time</th>\n",
       "    </tr>\n",
       "  </thead>\n",
       "  <tbody>\n",
       "    <tr>\n",
       "      <th>0</th>\n",
       "      <td>ORD001</td>\n",
       "      <td>Domino's</td>\n",
       "      <td>New York, NY</td>\n",
       "      <td>2024-01-05 18:30:00</td>\n",
       "      <td>2024-01-05 18:45:00</td>\n",
       "      <td>15</td>\n",
       "      <td>Medium</td>\n",
       "      <td>Veg</td>\n",
       "      <td>3</td>\n",
       "      <td>2.5</td>\n",
       "      <td>...</td>\n",
       "      <td>1.200000</td>\n",
       "      <td>January</td>\n",
       "      <td>Online</td>\n",
       "      <td>6.0</td>\n",
       "      <td>9.0</td>\n",
       "      <td>False</td>\n",
       "      <td>6</td>\n",
       "      <td>2</td>\n",
       "      <td>18</td>\n",
       "      <td>30.259434</td>\n",
       "    </tr>\n",
       "    <tr>\n",
       "      <th>1</th>\n",
       "      <td>ORD002</td>\n",
       "      <td>Papa John's</td>\n",
       "      <td>Los Angeles, CA</td>\n",
       "      <td>2024-02-14 20:00:00</td>\n",
       "      <td>2024-02-14 20:25:00</td>\n",
       "      <td>25</td>\n",
       "      <td>Large</td>\n",
       "      <td>Non-Veg</td>\n",
       "      <td>4</td>\n",
       "      <td>5.0</td>\n",
       "      <td>...</td>\n",
       "      <td>0.800000</td>\n",
       "      <td>February</td>\n",
       "      <td>Online</td>\n",
       "      <td>12.0</td>\n",
       "      <td>13.0</td>\n",
       "      <td>False</td>\n",
       "      <td>12</td>\n",
       "      <td>3</td>\n",
       "      <td>20</td>\n",
       "      <td>28.186275</td>\n",
       "    </tr>\n",
       "    <tr>\n",
       "      <th>2</th>\n",
       "      <td>ORD003</td>\n",
       "      <td>Little Caesars</td>\n",
       "      <td>Chicago, IL</td>\n",
       "      <td>2024-03-21 12:15:00</td>\n",
       "      <td>2024-03-21 12:35:00</td>\n",
       "      <td>20</td>\n",
       "      <td>Small</td>\n",
       "      <td>Vegan</td>\n",
       "      <td>2</td>\n",
       "      <td>3.0</td>\n",
       "      <td>...</td>\n",
       "      <td>0.666667</td>\n",
       "      <td>March</td>\n",
       "      <td>Online</td>\n",
       "      <td>7.2</td>\n",
       "      <td>12.8</td>\n",
       "      <td>False</td>\n",
       "      <td>2</td>\n",
       "      <td>1</td>\n",
       "      <td>12</td>\n",
       "      <td>28.844221</td>\n",
       "    </tr>\n",
       "    <tr>\n",
       "      <th>3</th>\n",
       "      <td>ORD004</td>\n",
       "      <td>Pizza Hut</td>\n",
       "      <td>Miami, FL</td>\n",
       "      <td>2024-04-10 19:45:00</td>\n",
       "      <td>2024-04-10 20:10:00</td>\n",
       "      <td>25</td>\n",
       "      <td>XL</td>\n",
       "      <td>Cheese Burst</td>\n",
       "      <td>5</td>\n",
       "      <td>4.5</td>\n",
       "      <td>...</td>\n",
       "      <td>1.111111</td>\n",
       "      <td>April</td>\n",
       "      <td>Offline</td>\n",
       "      <td>10.8</td>\n",
       "      <td>14.2</td>\n",
       "      <td>False</td>\n",
       "      <td>20</td>\n",
       "      <td>2</td>\n",
       "      <td>19</td>\n",
       "      <td>29.948454</td>\n",
       "    </tr>\n",
       "    <tr>\n",
       "      <th>4</th>\n",
       "      <td>ORD005</td>\n",
       "      <td>Marco's Pizza</td>\n",
       "      <td>Dallas, TX</td>\n",
       "      <td>2024-05-05 13:00:00</td>\n",
       "      <td>2024-05-05 13:20:00</td>\n",
       "      <td>20</td>\n",
       "      <td>Medium</td>\n",
       "      <td>Non-Veg</td>\n",
       "      <td>3</td>\n",
       "      <td>2.0</td>\n",
       "      <td>...</td>\n",
       "      <td>1.500000</td>\n",
       "      <td>May</td>\n",
       "      <td>Online</td>\n",
       "      <td>4.8</td>\n",
       "      <td>15.2</td>\n",
       "      <td>False</td>\n",
       "      <td>6</td>\n",
       "      <td>3</td>\n",
       "      <td>13</td>\n",
       "      <td>30.286458</td>\n",
       "    </tr>\n",
       "  </tbody>\n",
       "</table>\n",
       "<p>5 rows × 25 columns</p>\n",
       "</div>\n",
       "    <div class=\"colab-df-buttons\">\n",
       "\n",
       "  <div class=\"colab-df-container\">\n",
       "    <button class=\"colab-df-convert\" onclick=\"convertToInteractive('df-6294248f-e8d9-4d14-bc55-6532ed7967b5')\"\n",
       "            title=\"Convert this dataframe to an interactive table.\"\n",
       "            style=\"display:none;\">\n",
       "\n",
       "  <svg xmlns=\"http://www.w3.org/2000/svg\" height=\"24px\" viewBox=\"0 -960 960 960\">\n",
       "    <path d=\"M120-120v-720h720v720H120Zm60-500h600v-160H180v160Zm220 220h160v-160H400v160Zm0 220h160v-160H400v160ZM180-400h160v-160H180v160Zm440 0h160v-160H620v160ZM180-180h160v-160H180v160Zm440 0h160v-160H620v160Z\"/>\n",
       "  </svg>\n",
       "    </button>\n",
       "\n",
       "  <style>\n",
       "    .colab-df-container {\n",
       "      display:flex;\n",
       "      gap: 12px;\n",
       "    }\n",
       "\n",
       "    .colab-df-convert {\n",
       "      background-color: #E8F0FE;\n",
       "      border: none;\n",
       "      border-radius: 50%;\n",
       "      cursor: pointer;\n",
       "      display: none;\n",
       "      fill: #1967D2;\n",
       "      height: 32px;\n",
       "      padding: 0 0 0 0;\n",
       "      width: 32px;\n",
       "    }\n",
       "\n",
       "    .colab-df-convert:hover {\n",
       "      background-color: #E2EBFA;\n",
       "      box-shadow: 0px 1px 2px rgba(60, 64, 67, 0.3), 0px 1px 3px 1px rgba(60, 64, 67, 0.15);\n",
       "      fill: #174EA6;\n",
       "    }\n",
       "\n",
       "    .colab-df-buttons div {\n",
       "      margin-bottom: 4px;\n",
       "    }\n",
       "\n",
       "    [theme=dark] .colab-df-convert {\n",
       "      background-color: #3B4455;\n",
       "      fill: #D2E3FC;\n",
       "    }\n",
       "\n",
       "    [theme=dark] .colab-df-convert:hover {\n",
       "      background-color: #434B5C;\n",
       "      box-shadow: 0px 1px 3px 1px rgba(0, 0, 0, 0.15);\n",
       "      filter: drop-shadow(0px 1px 2px rgba(0, 0, 0, 0.3));\n",
       "      fill: #FFFFFF;\n",
       "    }\n",
       "  </style>\n",
       "\n",
       "    <script>\n",
       "      const buttonEl =\n",
       "        document.querySelector('#df-6294248f-e8d9-4d14-bc55-6532ed7967b5 button.colab-df-convert');\n",
       "      buttonEl.style.display =\n",
       "        google.colab.kernel.accessAllowed ? 'block' : 'none';\n",
       "\n",
       "      async function convertToInteractive(key) {\n",
       "        const element = document.querySelector('#df-6294248f-e8d9-4d14-bc55-6532ed7967b5');\n",
       "        const dataTable =\n",
       "          await google.colab.kernel.invokeFunction('convertToInteractive',\n",
       "                                                    [key], {});\n",
       "        if (!dataTable) return;\n",
       "\n",
       "        const docLinkHtml = 'Like what you see? Visit the ' +\n",
       "          '<a target=\"_blank\" href=https://colab.research.google.com/notebooks/data_table.ipynb>data table notebook</a>'\n",
       "          + ' to learn more about interactive tables.';\n",
       "        element.innerHTML = '';\n",
       "        dataTable['output_type'] = 'display_data';\n",
       "        await google.colab.output.renderOutput(dataTable, element);\n",
       "        const docLink = document.createElement('div');\n",
       "        docLink.innerHTML = docLinkHtml;\n",
       "        element.appendChild(docLink);\n",
       "      }\n",
       "    </script>\n",
       "  </div>\n",
       "\n",
       "\n",
       "    <div id=\"df-f9d66e47-2a4a-4023-8d58-10f6f77fbd17\">\n",
       "      <button class=\"colab-df-quickchart\" onclick=\"quickchart('df-f9d66e47-2a4a-4023-8d58-10f6f77fbd17')\"\n",
       "                title=\"Suggest charts\"\n",
       "                style=\"display:none;\">\n",
       "\n",
       "<svg xmlns=\"http://www.w3.org/2000/svg\" height=\"24px\"viewBox=\"0 0 24 24\"\n",
       "     width=\"24px\">\n",
       "    <g>\n",
       "        <path d=\"M19 3H5c-1.1 0-2 .9-2 2v14c0 1.1.9 2 2 2h14c1.1 0 2-.9 2-2V5c0-1.1-.9-2-2-2zM9 17H7v-7h2v7zm4 0h-2V7h2v10zm4 0h-2v-4h2v4z\"/>\n",
       "    </g>\n",
       "</svg>\n",
       "      </button>\n",
       "\n",
       "<style>\n",
       "  .colab-df-quickchart {\n",
       "      --bg-color: #E8F0FE;\n",
       "      --fill-color: #1967D2;\n",
       "      --hover-bg-color: #E2EBFA;\n",
       "      --hover-fill-color: #174EA6;\n",
       "      --disabled-fill-color: #AAA;\n",
       "      --disabled-bg-color: #DDD;\n",
       "  }\n",
       "\n",
       "  [theme=dark] .colab-df-quickchart {\n",
       "      --bg-color: #3B4455;\n",
       "      --fill-color: #D2E3FC;\n",
       "      --hover-bg-color: #434B5C;\n",
       "      --hover-fill-color: #FFFFFF;\n",
       "      --disabled-bg-color: #3B4455;\n",
       "      --disabled-fill-color: #666;\n",
       "  }\n",
       "\n",
       "  .colab-df-quickchart {\n",
       "    background-color: var(--bg-color);\n",
       "    border: none;\n",
       "    border-radius: 50%;\n",
       "    cursor: pointer;\n",
       "    display: none;\n",
       "    fill: var(--fill-color);\n",
       "    height: 32px;\n",
       "    padding: 0;\n",
       "    width: 32px;\n",
       "  }\n",
       "\n",
       "  .colab-df-quickchart:hover {\n",
       "    background-color: var(--hover-bg-color);\n",
       "    box-shadow: 0 1px 2px rgba(60, 64, 67, 0.3), 0 1px 3px 1px rgba(60, 64, 67, 0.15);\n",
       "    fill: var(--button-hover-fill-color);\n",
       "  }\n",
       "\n",
       "  .colab-df-quickchart-complete:disabled,\n",
       "  .colab-df-quickchart-complete:disabled:hover {\n",
       "    background-color: var(--disabled-bg-color);\n",
       "    fill: var(--disabled-fill-color);\n",
       "    box-shadow: none;\n",
       "  }\n",
       "\n",
       "  .colab-df-spinner {\n",
       "    border: 2px solid var(--fill-color);\n",
       "    border-color: transparent;\n",
       "    border-bottom-color: var(--fill-color);\n",
       "    animation:\n",
       "      spin 1s steps(1) infinite;\n",
       "  }\n",
       "\n",
       "  @keyframes spin {\n",
       "    0% {\n",
       "      border-color: transparent;\n",
       "      border-bottom-color: var(--fill-color);\n",
       "      border-left-color: var(--fill-color);\n",
       "    }\n",
       "    20% {\n",
       "      border-color: transparent;\n",
       "      border-left-color: var(--fill-color);\n",
       "      border-top-color: var(--fill-color);\n",
       "    }\n",
       "    30% {\n",
       "      border-color: transparent;\n",
       "      border-left-color: var(--fill-color);\n",
       "      border-top-color: var(--fill-color);\n",
       "      border-right-color: var(--fill-color);\n",
       "    }\n",
       "    40% {\n",
       "      border-color: transparent;\n",
       "      border-right-color: var(--fill-color);\n",
       "      border-top-color: var(--fill-color);\n",
       "    }\n",
       "    60% {\n",
       "      border-color: transparent;\n",
       "      border-right-color: var(--fill-color);\n",
       "    }\n",
       "    80% {\n",
       "      border-color: transparent;\n",
       "      border-right-color: var(--fill-color);\n",
       "      border-bottom-color: var(--fill-color);\n",
       "    }\n",
       "    90% {\n",
       "      border-color: transparent;\n",
       "      border-bottom-color: var(--fill-color);\n",
       "    }\n",
       "  }\n",
       "</style>\n",
       "\n",
       "      <script>\n",
       "        async function quickchart(key) {\n",
       "          const quickchartButtonEl =\n",
       "            document.querySelector('#' + key + ' button');\n",
       "          quickchartButtonEl.disabled = true;  // To prevent multiple clicks.\n",
       "          quickchartButtonEl.classList.add('colab-df-spinner');\n",
       "          try {\n",
       "            const charts = await google.colab.kernel.invokeFunction(\n",
       "                'suggestCharts', [key], {});\n",
       "          } catch (error) {\n",
       "            console.error('Error during call to suggestCharts:', error);\n",
       "          }\n",
       "          quickchartButtonEl.classList.remove('colab-df-spinner');\n",
       "          quickchartButtonEl.classList.add('colab-df-quickchart-complete');\n",
       "        }\n",
       "        (() => {\n",
       "          let quickchartButtonEl =\n",
       "            document.querySelector('#df-f9d66e47-2a4a-4023-8d58-10f6f77fbd17 button');\n",
       "          quickchartButtonEl.style.display =\n",
       "            google.colab.kernel.accessAllowed ? 'block' : 'none';\n",
       "        })();\n",
       "      </script>\n",
       "    </div>\n",
       "\n",
       "    </div>\n",
       "  </div>\n"
      ],
      "text/plain": [
       "  Order ID Restaurant Name         Location          Order Time  \\\n",
       "0   ORD001        Domino's     New York, NY 2024-01-05 18:30:00   \n",
       "1   ORD002     Papa John's  Los Angeles, CA 2024-02-14 20:00:00   \n",
       "2   ORD003  Little Caesars      Chicago, IL 2024-03-21 12:15:00   \n",
       "3   ORD004       Pizza Hut        Miami, FL 2024-04-10 19:45:00   \n",
       "4   ORD005   Marco's Pizza       Dallas, TX 2024-05-05 13:00:00   \n",
       "\n",
       "        Delivery Time  Delivery Duration (min) Pizza Size    Pizza Type  \\\n",
       "0 2024-01-05 18:45:00                       15     Medium           Veg   \n",
       "1 2024-02-14 20:25:00                       25      Large       Non-Veg   \n",
       "2 2024-03-21 12:35:00                       20      Small         Vegan   \n",
       "3 2024-04-10 20:10:00                       25         XL  Cheese Burst   \n",
       "4 2024-05-05 13:20:00                       20     Medium       Non-Veg   \n",
       "\n",
       "   Toppings Count  Distance (km)  ... Topping Density Order Month  \\\n",
       "0               3            2.5  ...        1.200000     January   \n",
       "1               4            5.0  ...        0.800000    February   \n",
       "2               2            3.0  ...        0.666667       March   \n",
       "3               5            4.5  ...        1.111111       April   \n",
       "4               3            2.0  ...        1.500000         May   \n",
       "\n",
       "   Payment Category  Estimated Duration (min)  Delay (min)  Is Delayed  \\\n",
       "0            Online                       6.0          9.0       False   \n",
       "1            Online                      12.0         13.0       False   \n",
       "2            Online                       7.2         12.8       False   \n",
       "3           Offline                      10.8         14.2       False   \n",
       "4            Online                       4.8         15.2       False   \n",
       "\n",
       "  Pizza Complexity Traffic Impact  Order Hour  Restaurant Avg Time  \n",
       "0                6              2          18            30.259434  \n",
       "1               12              3          20            28.186275  \n",
       "2                2              1          12            28.844221  \n",
       "3               20              2          19            29.948454  \n",
       "4                6              3          13            30.286458  \n",
       "\n",
       "[5 rows x 25 columns]"
      ]
     },
     "execution_count": 7,
     "metadata": {},
     "output_type": "execute_result"
    }
   ],
   "source": [
    "pizza_data = pd.read_excel('/content/drive/MyDrive/Data Science Bit 202505/Clases/Clase 7: Taller Pandas - Numpy/Enhanced_pizza_sell_data_2024-25.xlsx')\n",
    "pizza_data.head()"
   ]
  },
  {
   "cell_type": "markdown",
   "metadata": {
    "id": "8aHGD5Oa47Jk"
   },
   "source": [
    "## Preguntas de Análisis"
   ]
  },
  {
   "cell_type": "markdown",
   "metadata": {
    "id": "GAZJmfXP4-kq"
   },
   "source": [
    "### 1. ¿Cuales son los pedidos con tiempos de entrega demasiado cortos o demasiado largos? (Valores atípicos)"
   ]
  },
  {
   "cell_type": "code",
   "execution_count": 8,
   "metadata": {
    "executionInfo": {
     "elapsed": 5,
     "status": "ok",
     "timestamp": 1748991741796,
     "user": {
      "displayName": "Cristian Sainea",
      "userId": "04782665827188215718"
     },
     "user_tz": 300
    },
    "id": "LtyMaJdNW1R8"
   },
   "outputs": [],
   "source": [
    "delivery_time = pizza_data['Delivery Duration (min)']\n",
    "delivery_time = np.array(delivery_time)"
   ]
  },
  {
   "cell_type": "code",
   "execution_count": 9,
   "metadata": {
    "colab": {
     "base_uri": "https://localhost:8080/"
    },
    "executionInfo": {
     "elapsed": 106,
     "status": "ok",
     "timestamp": 1748991741906,
     "user": {
      "displayName": "Cristian Sainea",
      "userId": "04782665827188215718"
     },
     "user_tz": 300
    },
    "id": "GQD-HQq649fM",
    "outputId": "8d8163a8-0673-496a-c1cf-0a3a86a15f41"
   },
   "outputs": [
    {
     "name": "stdout",
     "output_type": "stream",
     "text": [
      "El primer cuartil (percentil 25) es igual a: 25.0\n",
      "El segundo cuartil (percentil 50) es igual a: 30.0\n",
      "El tercer cuartil (percentil 75) es igual a: 30.0\n",
      "El rango intercuartil es igual a: 5.0\n"
     ]
    }
   ],
   "source": [
    "q1 = np.percentile(delivery_time, 25)\n",
    "q2 = np.percentile(delivery_time, 50)\n",
    "q3 = np.percentile(delivery_time, 75)\n",
    "iqr = q3 - q1\n",
    "\n",
    "print(f\"El primer cuartil (percentil 25) es igual a: {q1}\")\n",
    "print(f\"El segundo cuartil (percentil 50) es igual a: {q2}\")\n",
    "print(f\"El tercer cuartil (percentil 75) es igual a: {q3}\")\n",
    "print(f\"El rango intercuartil es igual a: {iqr}\")"
   ]
  },
  {
   "cell_type": "code",
   "execution_count": 10,
   "metadata": {
    "colab": {
     "base_uri": "https://localhost:8080/"
    },
    "executionInfo": {
     "elapsed": 42,
     "status": "ok",
     "timestamp": 1748991741908,
     "user": {
      "displayName": "Cristian Sainea",
      "userId": "04782665827188215718"
     },
     "user_tz": 300
    },
    "id": "fwQgKm8N5r_w",
    "outputId": "ec3c55ba-edae-47ae-b716-bffa6ff24a9d"
   },
   "outputs": [
    {
     "name": "stdout",
     "output_type": "stream",
     "text": [
      "El límite inferior es igual a: 20\n",
      "El límite superior es igual a: 35\n"
     ]
    }
   ],
   "source": [
    "limite_inferior = max(q1 - 1.5 * iqr, delivery_time[delivery_time > (q1 - 1.5 * iqr)].min())\n",
    "limite_superior = min(q3 + 1.5 * iqr, delivery_time[delivery_time < (q3 + 1.5 * iqr)].max())\n",
    "print(f\"El límite inferior es igual a: {limite_inferior}\")\n",
    "print(f\"El límite superior es igual a: {limite_superior}\")"
   ]
  },
  {
   "cell_type": "code",
   "execution_count": 11,
   "metadata": {
    "colab": {
     "base_uri": "https://localhost:8080/"
    },
    "executionInfo": {
     "elapsed": 31,
     "status": "ok",
     "timestamp": 1748991741910,
     "user": {
      "displayName": "Cristian Sainea",
      "userId": "04782665827188215718"
     },
     "user_tz": 300
    },
    "id": "q3JlpM1LX929",
    "outputId": "2e67226f-e686-4d97-8755-5422b56967f8"
   },
   "outputs": [
    {
     "name": "stdout",
     "output_type": "stream",
     "text": [
      "Número de transacciones con tiempos de entrega muy cortos: 1\n",
      "Número de transacciones con tiempos de entrega muy altos: 166\n",
      "Número de transacciones atípicas: 167\n"
     ]
    }
   ],
   "source": [
    "delivery_muy_rapido = delivery_time[delivery_time < limite_inferior]\n",
    "print(f\"Número de transacciones con tiempos de entrega muy cortos: {len(delivery_muy_rapido)}\")\n",
    "delivery_muy_demorado = delivery_time[delivery_time > limite_superior]\n",
    "print(f\"Número de transacciones con tiempos de entrega muy altos: {len(delivery_muy_demorado)}\")\n",
    "print(f\"Número de transacciones atípicas: {len(delivery_muy_rapido) + len(delivery_muy_demorado)}\")"
   ]
  },
  {
   "cell_type": "code",
   "execution_count": 12,
   "metadata": {
    "colab": {
     "base_uri": "https://localhost:8080/",
     "height": 430
    },
    "executionInfo": {
     "elapsed": 238,
     "status": "ok",
     "timestamp": 1748991742136,
     "user": {
      "displayName": "Cristian Sainea",
      "userId": "04782665827188215718"
     },
     "user_tz": 300
    },
    "id": "7gwRKJh28MqM",
    "outputId": "12ef041a-1571-434e-f388-d95c343f1e1f"
   },
   "outputs": [
    {
     "data": {
      "image/png": "[encoded data removed]",
      "text/plain": [
       "<Figure size 640x480 with 1 Axes>"
      ]
     },
     "metadata": {},
     "output_type": "display_data"
    }
   ],
   "source": [
    "import matplotlib.pyplot as plt\n",
    "plt.boxplot(pizza_data['Delivery Duration (min)'])\n",
    "plt.show()"
   ]
  },
  {
   "cell_type": "markdown",
   "metadata": {},
   "source": [
    "SOLUCION\n",
    "\n",
    "¿Cuál es el ingreso promedio por cliente en cada país, y qué país genera más ingresos en promedio por cliente?"
   ]
  },
  {
   "cell_type": "code",
   "execution_count": 19,
   "metadata": {},
   "outputs": [
    {
     "data": {
      "text/html": [
       "<div>\n",
       "<style scoped>\n",
       "    .dataframe tbody tr th:only-of-type {\n",
       "        vertical-align: middle;\n",
       "    }\n",
       "\n",
       "    .dataframe tbody tr th {\n",
       "        vertical-align: top;\n",
       "    }\n",
       "\n",
       "    .dataframe thead th {\n",
       "        text-align: right;\n",
       "    }\n",
       "</style>\n",
       "<table border=\"1\" class=\"dataframe\">\n",
       "  <thead>\n",
       "    <tr style=\"text-align: right;\">\n",
       "      <th></th>\n",
       "      <th>N° de factura</th>\n",
       "      <th>Fecha de factura</th>\n",
       "      <th>ID Cliente</th>\n",
       "      <th>País</th>\n",
       "      <th>Cantidad</th>\n",
       "      <th>Monto</th>\n",
       "    </tr>\n",
       "  </thead>\n",
       "  <tbody>\n",
       "    <tr>\n",
       "      <th>0</th>\n",
       "      <td>548370</td>\n",
       "      <td>3/30/2021 16:14:00</td>\n",
       "      <td>15528.0</td>\n",
       "      <td>United Kingdom</td>\n",
       "      <td>123</td>\n",
       "      <td>229,33</td>\n",
       "    </tr>\n",
       "    <tr>\n",
       "      <th>1</th>\n",
       "      <td>575767</td>\n",
       "      <td>11/11/2021 11:11:00</td>\n",
       "      <td>17348.0</td>\n",
       "      <td>United Kingdom</td>\n",
       "      <td>163</td>\n",
       "      <td>209,73</td>\n",
       "    </tr>\n",
       "    <tr>\n",
       "      <th>2</th>\n",
       "      <td>C570727</td>\n",
       "      <td>10/12/2021 11:32:00</td>\n",
       "      <td>12471.0</td>\n",
       "      <td>Germany</td>\n",
       "      <td>-1</td>\n",
       "      <td>-1,45</td>\n",
       "    </tr>\n",
       "    <tr>\n",
       "      <th>3</th>\n",
       "      <td>549106</td>\n",
       "      <td>4/6/2021 12:08:00</td>\n",
       "      <td>17045.0</td>\n",
       "      <td>United Kingdom</td>\n",
       "      <td>1</td>\n",
       "      <td>39,95</td>\n",
       "    </tr>\n",
       "    <tr>\n",
       "      <th>4</th>\n",
       "      <td>573112</td>\n",
       "      <td>10/27/2021 15:33:00</td>\n",
       "      <td>16416.0</td>\n",
       "      <td>United Kingdom</td>\n",
       "      <td>357</td>\n",
       "      <td>344,83</td>\n",
       "    </tr>\n",
       "  </tbody>\n",
       "</table>\n",
       "</div>"
      ],
      "text/plain": [
       "  N° de factura     Fecha de factura  ID Cliente            País  Cantidad  \\\n",
       "0        548370   3/30/2021 16:14:00     15528.0  United Kingdom       123   \n",
       "1        575767  11/11/2021 11:11:00     17348.0  United Kingdom       163   \n",
       "2       C570727  10/12/2021 11:32:00     12471.0         Germany        -1   \n",
       "3        549106    4/6/2021 12:08:00     17045.0  United Kingdom         1   \n",
       "4        573112  10/27/2021 15:33:00     16416.0  United Kingdom       357   \n",
       "\n",
       "    Monto  \n",
       "0  229,33  \n",
       "1  209,73  \n",
       "2   -1,45  \n",
       "3   39,95  \n",
       "4  344,83  "
      ]
     },
     "execution_count": 19,
     "metadata": {},
     "output_type": "execute_result"
    }
   ],
   "source": [
    "import pandas as pd\n",
    "import numpy as np\n",
    "import matplotlib.pyplot as plt\n",
    "\n",
    "# Cargar el archivo CSV\n",
    "\n",
    "df = pd.read_csv(\"ventas.csv\")\n",
    "df.head()\n",
    "\n",
    "\n",
    "\n"
   ]
  },
  {
   "cell_type": "code",
   "execution_count": 20,
   "metadata": {},
   "outputs": [],
   "source": [
    "# LIMPIEZA DE DATOS\n",
    "\n",
    "\n",
    "# Eliminar filas con valores nulos en columnas críticas (ID Cliente, País y Monto)\n",
    "# dropna elimina cualquier fila que tenga valores vacíos (NaN) en las columnas indicadas\n",
    "# Esto garantiza que no trabajamos con datos incompletos en nuestro análisis\n",
    "df.dropna(subset=[\"ID Cliente\", \"País\", \"Monto\"], inplace=True)\n",
    "\n",
    "# Reemplazar comas por puntos en la columna 'Monto' y convertirla a tipo float\n",
    "# Algunos valores usan coma como separador decimal, lo cual es incorrecto para análisis numérico\n",
    "# str.replace cambia la coma por punto y luego convertimos a float\n",
    "# Esto permite que los valores se puedan sumar correctamente\n",
    "df[\"Monto\"] = df[\"Monto\"].str.replace(\",\", \".\").astype(float)\n",
    "\n",
    "# Eliminar registros con valores negativos en \"Cantidad\" o \"Monto\"\n",
    "# Valores negativos en estos campos probablemente son errores o devoluciones\n",
    "# Solo se conservan las filas con cantidades y montos positivos\n",
    "df = df[(df[\"Cantidad\"] > 0) & (df[\"Monto\"] > 0)]"
   ]
  },
  {
   "cell_type": "code",
   "execution_count": null,
   "metadata": {},
   "outputs": [],
   "source": [
    "# ---------------------------\n",
    "# TRANSFORMACIÓN Y AGRUPACIÓN\n",
    "# ---------------------------\n",
    "\n",
    "# Agrupar por país y cliente para obtener el ingreso total por cliente\n",
    "# groupby crea una agrupación por país y cliente\n",
    "# sum() calcula el total gastado por cada cliente en su país\n",
    "ingresos_por_cliente = df.groupby([\"País\", \"ID Cliente\"])['Monto'].sum().reset_index()\n",
    "\n",
    "# Agrupar por país para obtener el ingreso promedio por cliente\n",
    "# Ahora agrupamos solo por país y sacamos el promedio de los ingresos por cliente\n",
    "promedio_por_pais = ingresos_por_cliente.groupby(\"País\")[\"Monto\"].mean().reset_index()\n",
    "\n",
    "# Renombrar columna para mayor claridad\n",
    "promedio_por_pais.rename(columns={\"Monto\": \"Ingreso Promedio por Cliente\"}, inplace=True)\n",
    "\n"
   ]
  },
  {
   "cell_type": "code",
   "execution_count": 28,
   "metadata": {},
   "outputs": [
    {
     "data": {
      "text/html": [
       "<div>\n",
       "<style scoped>\n",
       "    .dataframe tbody tr th:only-of-type {\n",
       "        vertical-align: middle;\n",
       "    }\n",
       "\n",
       "    .dataframe tbody tr th {\n",
       "        vertical-align: top;\n",
       "    }\n",
       "\n",
       "    .dataframe thead th {\n",
       "        text-align: right;\n",
       "    }\n",
       "</style>\n",
       "<table border=\"1\" class=\"dataframe\">\n",
       "  <thead>\n",
       "    <tr style=\"text-align: right;\">\n",
       "      <th></th>\n",
       "      <th>País</th>\n",
       "      <th>Ingreso Promedio por Cliente</th>\n",
       "      <th>Ingreso Normalizado</th>\n",
       "    </tr>\n",
       "  </thead>\n",
       "  <tbody>\n",
       "    <tr>\n",
       "      <th>0</th>\n",
       "      <td>Australia</td>\n",
       "      <td>15391.256667</td>\n",
       "      <td>0.629910</td>\n",
       "    </tr>\n",
       "    <tr>\n",
       "      <th>1</th>\n",
       "      <td>Austria</td>\n",
       "      <td>927.152727</td>\n",
       "      <td>-0.327049</td>\n",
       "    </tr>\n",
       "    <tr>\n",
       "      <th>2</th>\n",
       "      <td>Bahrain</td>\n",
       "      <td>274.200000</td>\n",
       "      <td>-0.370249</td>\n",
       "    </tr>\n",
       "    <tr>\n",
       "      <th>3</th>\n",
       "      <td>Belgium</td>\n",
       "      <td>1647.853600</td>\n",
       "      <td>-0.279366</td>\n",
       "    </tr>\n",
       "    <tr>\n",
       "      <th>4</th>\n",
       "      <td>Brazil</td>\n",
       "      <td>1143.600000</td>\n",
       "      <td>-0.312728</td>\n",
       "    </tr>\n",
       "  </tbody>\n",
       "</table>\n",
       "</div>"
      ],
      "text/plain": [
       "        País  Ingreso Promedio por Cliente  Ingreso Normalizado\n",
       "0  Australia                  15391.256667             0.629910\n",
       "1    Austria                    927.152727            -0.327049\n",
       "2    Bahrain                    274.200000            -0.370249\n",
       "3    Belgium                   1647.853600            -0.279366\n",
       "4     Brazil                   1143.600000            -0.312728"
      ]
     },
     "execution_count": 28,
     "metadata": {},
     "output_type": "execute_result"
    }
   ],
   "source": [
    "\n",
    "# ---------------------------\n",
    "# ANÁLISIS CON NUMPY\n",
    "# ---------------------------\n",
    "\n",
    "\n",
    "# iBA USAR ESTE CODIGO promedio_por_pais[\"Ingreso Promedio por Cliente\"].mean()), PERO LEYENFO ME DICEQEU ES MEJOR CONVERTIRLO A ARRAY\n",
    "valores = promedio_por_pais[\"Ingreso Promedio por Cliente\"].to_numpy()\n",
    "\n",
    "# Calcular la media (promedio) general de ingresos entre todos los países\n",
    "media = np.mean(valores)\n",
    "\n",
    "# Calcular la desviación estándar (qué tanto varían los ingresos entre países)\n",
    "desviacion = np.std(valores)\n",
    "\n",
    "# Normalizar los valores para comparar mejor: (valor - media) / desviación estándar\n",
    "normalizados = (valores - media) / desviacion\n",
    "\n",
    "# Agregar los valores normalizados al DataFrame para posibles análisis adicionales\n",
    "promedio_por_pais[\"Ingreso Normalizado\"] = normalizados\n",
    "\n",
    "# Encontrar el país con mayor ingreso promedio\n",
    "# idxmax da el índice del valor máximo, y lo usamos para extraer el país con más ingreso promedio\n",
    "pais_top = promedio_por_pais.loc[promedio_por_pais[\"Ingreso Promedio por Cliente\"].idxmax()]\n",
    "\n",
    "promedio_por_pais.head()"
   ]
  },
  {
   "cell_type": "code",
   "execution_count": 22,
   "metadata": {},
   "outputs": [
    {
     "data": {
      "image/png": "[encoded data removed]",
      "text/plain": [
       "<Figure size 1500x600 with 1 Axes>"
      ]
     },
     "metadata": {},
     "output_type": "display_data"
    },
    {
     "name": "stdout",
     "output_type": "stream",
     "text": [
      "Interpretación de Resultados:\n",
      "\n",
      "El ingreso promedio por cliente se calcula sumando las compras de cada cliente en un país y promediando entre todos los clientes de ese país.\n",
      "\n",
      "El país con mayor ingreso promedio por cliente es: EIRE, con un ingreso promedio de €88774.07.\n",
      "La media general de ingresos promedio por país es de €5870.38, con una desviación estándar de €15114.66.\n"
     ]
    }
   ],
   "source": [
    "# ---------------------------\n",
    "# VISUALIZACIÓN\n",
    "# ---------------------------\n",
    "\n",
    "# Configurar el tamaño del gráfico\n",
    "plt.figure(figsize=(15, 6))\n",
    "\n",
    "# Ordenamos los datos por ingreso promedio para una mejor visualización\n",
    "ordenado = promedio_por_pais.sort_values(\"Ingreso Promedio por Cliente\", ascending=False)\n",
    "\n",
    "# Crear las barras\n",
    "plt.bar(ordenado[\"País\"], ordenado[\"Ingreso Promedio por Cliente\"], color=\"skyblue\")\n",
    "\n",
    "# Rotar etiquetas del eje X para mejor lectura\n",
    "plt.xticks(rotation=45)\n",
    "\n",
    "# Agregar título y etiquetas\n",
    "plt.title(\"Ingreso Promedio por Cliente en Cada País\")\n",
    "plt.xlabel(\"País\")\n",
    "plt.ylabel(\"Ingreso Promedio (€)\")\n",
    "plt.tight_layout()\n",
    "plt.show()\n",
    "\n",
    "\n",
    "print(\"Interpretación de Resultados:\\n\")\n",
    "print(\"El ingreso promedio por cliente se calcula sumando las compras de cada cliente en un país y promediando entre todos los clientes de ese país.\")\n",
    "print(f\"\\nEl país con mayor ingreso promedio por cliente es: {pais_top['País']}, con un ingreso promedio de €{pais_top['Ingreso Promedio por Cliente']:.2f}.\")\n",
    "print(f\"La media general de ingresos promedio por país es de €{media:.2f}, con una desviación estándar de €{desviacion:.2f}.\")\n"
   ]
  }
 ],
 "metadata": {
  "colab": {
   "authorship_tag": "ABX9TyNPdNyP4RhjndK0qpA5MSle",
   "provenance": []
  },
  "kernelspec": {
   "display_name": "Python 3",
   "name": "python3"
  },
  "language_info": {
   "codemirror_mode": {
    "name": "ipython",
    "version": 3
   },
   "file_extension": ".py",
   "mimetype": "text/x-python",
   "name": "python",
   "nbconvert_exporter": "python",
   "pygments_lexer": "ipython3",
   "version": "3.8.0"
  }
 },
 "nbformat": 4,
 "nbformat_minor": 0
}
