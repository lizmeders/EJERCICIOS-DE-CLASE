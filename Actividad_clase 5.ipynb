{
 "cells": [
  {
   "cell_type": "markdown",
   "id": "097ea7a0",
   "metadata": {},
   "source": [
    "---\n",
    "## Actividad Entregable\n",
    "1. Leer un archivo del formato de su elección sobre cualquier temática\n",
    "2. Muestre la forma, información general y estadisticas descriptivas del dataset\n",
    "3. Genere un nuevo dataset aplicando un filtro sobre los datos originales\n",
    "4. Genere un nuevo dataset aplicando un ordenamiento sobre los datos originales"
   ]
  },
  {
   "cell_type": "code",
   "execution_count": 2,
   "id": "573a019c",
   "metadata": {},
   "outputs": [
    {
     "name": "stdout",
     "output_type": "stream",
     "text": [
      "   OrderID       Date Product    Country  Amount\n",
      "0        1 2023-01-01       A   Colombia     100\n",
      "1        2 2023-01-02       B       Peru     150\n",
      "2        3 2023-01-03       A      Chile     200\n",
      "3        4 2023-01-04       B  Argentina     120\n",
      "4        5 2023-01-05       A     Mexico      80\n"
     ]
    }
   ],
   "source": [
    "# Si no tienes un Excel, créalo así:\n",
    "import pandas as pd\n",
    "\n",
    "ventas = pd.DataFrame({\n",
    "    'OrderID': range(1, 11),\n",
    "    'Date': pd.date_range('2023-01-01', periods=10),\n",
    "    'Product': ['A', 'B'] * 5,\n",
    "    'Country': ['Colombia', 'Peru', 'Chile', 'Argentina', 'Mexico'] * 2,\n",
    "    'Amount': [100, 150, 200, 120, 80, 95, 60, 130, 180, 110]\n",
    "})\n",
    "ventas.to_excel('ventas.xlsx', index=False)\n",
    "\n",
    "\n",
    "# Leer el archivo que se acaba de crear\n",
    "ventas = pd.read_excel('ventas.xlsx')\n",
    "\n",
    "# Mostrar las primeras filas del archivo\n",
    "print(ventas.head())"
   ]
  },
  {
   "cell_type": "code",
   "execution_count": 3,
   "id": "549073a3",
   "metadata": {},
   "outputs": [
    {
     "name": "stdout",
     "output_type": "stream",
     "text": [
      "Forma del dataset: (10, 5)\n",
      "\n",
      "Información general:\n",
      "<class 'pandas.core.frame.DataFrame'>\n",
      "RangeIndex: 10 entries, 0 to 9\n",
      "Data columns (total 5 columns):\n",
      " #   Column   Non-Null Count  Dtype         \n",
      "---  ------   --------------  -----         \n",
      " 0   OrderID  10 non-null     int64         \n",
      " 1   Date     10 non-null     datetime64[ns]\n",
      " 2   Product  10 non-null     object        \n",
      " 3   Country  10 non-null     object        \n",
      " 4   Amount   10 non-null     int64         \n",
      "dtypes: datetime64[ns](1), int64(2), object(2)\n",
      "memory usage: 528.0+ bytes\n",
      "None\n",
      "\n",
      "Estadísticas descriptivas:\n",
      "        OrderID                 Date      Amount\n",
      "count  10.00000                   10   10.000000\n",
      "mean    5.50000  2023-01-05 12:00:00  122.500000\n",
      "min     1.00000  2023-01-01 00:00:00   60.000000\n",
      "25%     3.25000  2023-01-03 06:00:00   96.250000\n",
      "50%     5.50000  2023-01-05 12:00:00  115.000000\n",
      "75%     7.75000  2023-01-07 18:00:00  145.000000\n",
      "max    10.00000  2023-01-10 00:00:00  200.000000\n",
      "std     3.02765                  NaN   43.795611\n",
      "\n",
      "Ventas filtradas (Amount > 100):\n",
      "   OrderID       Date Product    Country  Amount\n",
      "1        2 2023-01-02       B       Peru     150\n",
      "2        3 2023-01-03       A      Chile     200\n",
      "3        4 2023-01-04       B  Argentina     120\n",
      "7        8 2023-01-08       B      Chile     130\n",
      "8        9 2023-01-09       A  Argentina     180\n",
      "9       10 2023-01-10       B     Mexico     110\n",
      "\n",
      "Ventas ordenadas por Amount descendente:\n",
      "   OrderID       Date Product    Country  Amount\n",
      "2        3 2023-01-03       A      Chile     200\n",
      "8        9 2023-01-09       A  Argentina     180\n",
      "1        2 2023-01-02       B       Peru     150\n",
      "7        8 2023-01-08       B      Chile     130\n",
      "3        4 2023-01-04       B  Argentina     120\n",
      "9       10 2023-01-10       B     Mexico     110\n",
      "0        1 2023-01-01       A   Colombia     100\n",
      "5        6 2023-01-06       B   Colombia      95\n",
      "4        5 2023-01-05       A     Mexico      80\n",
      "6        7 2023-01-07       A       Peru      60\n"
     ]
    }
   ],
   "source": [
    "import pandas as pd\n",
    "\n",
    "# 1. Leer un archivo del formato de su elección\n",
    "ventas = pd.read_excel('ventas.xlsx')\n",
    "\n",
    "# 2. Mostrar la forma, información general y estadísticas descriptivas del dataset\n",
    "print(\"Forma del dataset:\", ventas.shape)\n",
    "print(\"\\nInformación general:\")\n",
    "print(ventas.info())\n",
    "print(\"\\nEstadísticas descriptivas:\")\n",
    "print(ventas.describe())\n",
    "\n",
    "# 3. Generar un nuevo dataset aplicando un filtro (ventas mayores a 100)\n",
    "ventas_filtradas = ventas[ventas['Amount'] > 100]\n",
    "print(\"\\nVentas filtradas (Amount > 100):\")\n",
    "print(ventas_filtradas)\n",
    "\n",
    "# 4. Generar un nuevo dataset aplicando un ordenamiento (por Amount descendente)\n",
    "ventas_ordenadas = ventas.sort_values(by='Amount', ascending=False)\n",
    "print(\"\\nVentas ordenadas por Amount descendente:\")\n",
    "print(ventas_ordenadas)\n"
   ]
  },
  {
   "cell_type": "markdown",
   "id": "87e552cb",
   "metadata": {},
   "source": [
    "## Explicación\n",
    "\n",
    "Para esta actividad usé un archivo de Excel llamado ventas.xlsx con datos ficticios de ventas (como fecha, país, producto y monto). Lo primero que hice fue leer el archivo con pandas. Luego revisé cuántas filas y columnas tenía, qué tipo de datos había y saqué algunos datos estadísticos como el promedio y los valores máximos. Después filtré las ventas que fueran mayores a 100 para quedarme solo con las más altas. Por último, ordené las ventas de mayor a menor para ver cuáles fueron las más grandes. Me pareció una buena forma de practicar lo básico de pandas y entender mejor cómo analizar datos paso a paso."
   ]
  }
 ],
 "metadata": {
  "kernelspec": {
   "display_name": "Python 3",
   "language": "python",
   "name": "python3"
  },
  "language_info": {
   "codemirror_mode": {
    "name": "ipython",
    "version": 3
   },
   "file_extension": ".py",
   "mimetype": "text/x-python",
   "name": "python",
   "nbconvert_exporter": "python",
   "pygments_lexer": "ipython3",
   "version": "3.8.0"
  }
 },
 "nbformat": 4,
 "nbformat_minor": 5
}
