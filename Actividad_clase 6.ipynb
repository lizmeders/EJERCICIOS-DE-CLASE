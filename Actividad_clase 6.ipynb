{
 "cells": [
  {
   "cell_type": "markdown",
   "metadata": {
    "id": "Pn4LWF6Qej8e"
   },
   "source": [
    "-----\n",
    "\n",
    "## Actividad Entregable\n",
    "\n",
    "1. Crea un arreglo 5x3 de números aleatorios entre 0 y 100\n",
    "2. ¿Cuál es la suma total de los valores del arreglo?\n",
    "3. ¿Cúal es el promedio de cada columna del arreglo?\n",
    "4. Crea una matriz 10x10 de enteros aleatorios (0-9).\n",
    "5. Pon en -1 todos los valores > 5\n",
    "6. Abre una imagen, muestra shape, min, max y promedio de cada canal"
   ]
  },
  {
   "cell_type": "code",
   "execution_count": 22,
   "metadata": {},
   "outputs": [
    {
     "name": "stdout",
     "output_type": "stream",
     "text": [
      "[[ 2 50 40]\n",
      " [38 79 12]\n",
      " [76 29  3]\n",
      " [81 64 57]\n",
      " [57 49 29]]\n"
     ]
    }
   ],
   "source": [
    "\n",
    "import numpy as np                 \n",
    "import matplotlib.pyplot as plt  \n",
    "\n",
    "# 1. Crea un arreglo 5x3 de números aleatorios entre 0 y 100\n",
    "arreglo = np.random.randint(0, 101, size=(5, 3))\n",
    "print( arreglo)\n",
    "\n"
   ]
  },
  {
   "cell_type": "code",
   "execution_count": 23,
   "metadata": {},
   "outputs": [
    {
     "name": "stdout",
     "output_type": "stream",
     "text": [
      "Suma total: 666\n"
     ]
    }
   ],
   "source": [
    "# 2. ¿Cuál es la suma total de los valores del arreglo?\n",
    "suma_total = arreglo.sum()\n",
    "print(\"Suma total:\", suma_total)\n",
    "\n"
   ]
  },
  {
   "cell_type": "code",
   "execution_count": 24,
   "metadata": {},
   "outputs": [
    {
     "name": "stdout",
     "output_type": "stream",
     "text": [
      "Promedio de cada columna: [50.8 54.2 28.2]\n"
     ]
    }
   ],
   "source": [
    "# 3. ¿Cuál es el promedio de cada columna del arreglo?\n",
    "promedio_columnas = arreglo.mean(axis=0)  # axis=0 significa \"por columnas\"\n",
    "print(\"Promedio de cada columna:\", promedio_columnas)\n",
    "\n"
   ]
  },
  {
   "cell_type": "code",
   "execution_count": 25,
   "metadata": {},
   "outputs": [
    {
     "name": "stdout",
     "output_type": "stream",
     "text": [
      "Matriz 10x10\n",
      " [[7 3 4 1 1 1 4 6 8 1]\n",
      " [8 3 9 5 5 3 3 3 6 3]\n",
      " [9 4 2 9 5 4 2 8 1 2]\n",
      " [0 2 0 0 1 4 7 7 3 9]\n",
      " [4 0 6 1 1 5 6 9 7 0]\n",
      " [1 9 4 7 2 7 2 0 2 5]\n",
      " [6 5 6 5 9 0 3 5 6 3]\n",
      " [5 1 0 4 5 6 1 0 7 1]\n",
      " [4 0 2 5 9 7 2 9 7 5]\n",
      " [2 1 8 8 0 9 4 9 5 9]]\n"
     ]
    }
   ],
   "source": [
    "# 4. Crea una matriz 10x10 de enteros aleatorios (0-9)\n",
    "matriz = np.random.randint(0, 10, size=(10, 10))\n",
    "print(\"Matriz 10x10\\n\", matriz)\n",
    "\n"
   ]
  },
  {
   "cell_type": "code",
   "execution_count": 26,
   "metadata": {},
   "outputs": [
    {
     "name": "stdout",
     "output_type": "stream",
     "text": [
      "\n",
      "Matriz con valores > 5 cambiados a -1:\n",
      " [[-1  3  4  1  1  1  4 -1 -1  1]\n",
      " [-1  3 -1  5  5  3  3  3 -1  3]\n",
      " [-1  4  2 -1  5  4  2 -1  1  2]\n",
      " [ 0  2  0  0  1  4 -1 -1  3 -1]\n",
      " [ 4  0 -1  1  1  5 -1 -1 -1  0]\n",
      " [ 1 -1  4 -1  2 -1  2  0  2  5]\n",
      " [-1  5 -1  5 -1  0  3  5 -1  3]\n",
      " [ 5  1  0  4  5 -1  1  0 -1  1]\n",
      " [ 4  0  2  5 -1 -1  2 -1 -1  5]\n",
      " [ 2  1 -1 -1  0 -1  4 -1  5 -1]]\n"
     ]
    }
   ],
   "source": [
    "# 5. Pon en -1 todos los valores > 5\n",
    "matriz[matriz > 5] = -1\n",
    "print(\"\\nMatriz con valores > 5 cambiados a -1:\\n\", matriz)\n",
    "\n"
   ]
  },
  {
   "cell_type": "code",
   "execution_count": 29,
   "metadata": {},
   "outputs": [
    {
     "name": "stdout",
     "output_type": "stream",
     "text": [
      "\n",
      "Shape de la imagen: (2048, 1536, 4)\n",
      "Canal Rojo - Min: 0 Max: 255 Promedio: 62.88367017110189\n",
      "Canal Verde - Min: 0 Max: 255 Promedio: 53.65399932861328\n",
      "Canal Azul - Min: 0 Max: 255 Promedio: 46.06454372406006\n"
     ]
    }
   ],
   "source": [
    "# 6. Abre una imagen, muestra shape, min, max y promedio de cada canal\n",
    "## Uso la imagen de mi pérrito ORION\n",
    "from PIL import Image\n",
    "\n",
    "imagen = Image.open(\"imagen.jpg\")\n",
    "imagen.show()\n",
    "\n",
    "## tuve qeu crear esto por que me decia que la imagen no tenia atributo de shape\n",
    "imagen = np.array(imagen_pil) \n",
    "imagen_pil = Image.open(\"imagen.jpg\")\n",
    "print(\"\\nShape de la imagen:\", imagen.shape)\n",
    "\n",
    "## Tuve qeu buscar el indice de cada color, como es RGB va de 0 a 2\n",
    "'''\n",
    "| Canal | Índice |\n",
    "| ----- | ------ |\n",
    "| Rojo  | 0      |\n",
    "| Verde | 1      |\n",
    "| Azul  | 2      |\n",
    "'''\n",
    "rojo = imagen[:, :, 0]\n",
    "verde = imagen[:, :, 1]\n",
    "azul = imagen[:, :, 2]\n",
    "\n",
    "\n",
    "## Aca lo hice todo en una linea para mostrar min max y promedio de cada canal\n",
    "\n",
    "# Mostrar Min, Max y promedio del canal rojo\n",
    "print(\"Canal Rojo - Min:\", rojo.min(), \"Max:\", rojo.max(), \"Promedio:\", rojo.mean())\n",
    "\n",
    "# Mostrar Min, Max y promedio del canal verde\n",
    "print(\"Canal Verde - Min:\", verde.min(), \"Max:\", verde.max(), \"Promedio:\", verde.mean())\n",
    "\n",
    "# Mostrar Min, Max y promedio del canal azul\n",
    "print(\"Canal Azul - Min:\", azul.min(), \"Max:\", azul.max(), \"Promedio:\", azul.mean())"
   ]
  }
 ],
 "metadata": {
  "colab": {
   "authorship_tag": "ABX9TyOX6S3/s4vo3dAKzUr75Ase",
   "provenance": []
  },
  "kernelspec": {
   "display_name": "Python 3",
   "name": "python3"
  },
  "language_info": {
   "codemirror_mode": {
    "name": "ipython",
    "version": 3
   },
   "file_extension": ".py",
   "mimetype": "text/x-python",
   "name": "python",
   "nbconvert_exporter": "python",
   "pygments_lexer": "ipython3",
   "version": "3.8.0"
  }
 },
 "nbformat": 4,
 "nbformat_minor": 0
}
